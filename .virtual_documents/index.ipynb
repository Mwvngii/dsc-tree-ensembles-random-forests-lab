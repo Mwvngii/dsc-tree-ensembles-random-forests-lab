








import pandas as pd
import numpy as np
np.random.seed(0)
import matplotlib.pyplot as plt
from sklearn.model_selection import train_test_split
from sklearn.metrics import accuracy_score, confusion_matrix, classification_report
from sklearn.tree import DecisionTreeClassifier
from sklearn.ensemble import BaggingClassifier, RandomForestClassifier





# Import the data
salaries = pd.read_csv('salaries_final.csv', index_col = 0)
salaries.head()











# Split the outcome and predictor variables
target = salaries['Target']
data = salaries.drop(columns=['Target'])





# Your code here
data.dtypes





# Create dummy variables
data = pd.get_dummies(data, drop_first=True)
data.head()





data_train, data_test, target_train, target_test = train_test_split(data, target, test_size=0.25, random_state=123)








# Instantiate and fit a DecisionTreeClassifier
tree_clf = DecisionTreeClassifier(criterion='gini',
                                  max_depth=5,
                                  random_state=123)
tree_clf.fit(data_train, target_train)





# Feature importance





def plot_feature_importances(model):
    n_features = data_train.shape[1]
    plt.figure(figsize=(8,8))
    plt.barh(range(n_features), model.feature_importances_, align='center') 
    plt.yticks(np.arange(n_features), data_train.columns.values) 
    plt.xlabel('Feature importance')
    plt.ylabel('Feature')

plot_feature_importances(tree_clf)





# Test set predictions
pred = tree_clf.predict(data_test)

# Confusion matrix and classification report
print(confusion_matrix(target_test, pred))
print(classification_report(target_test, pred))





print("Testing Accuracy for Decision Tree Classifier: {:.4}%".format(accuracy_score(target_test, pred) * 100))








# Instantiate a BaggingClassifier
bagged_tree = BaggingClassifier(base_estimator=tree_clf, n_estimators=20)





# Fit to the training data
bagged_tree.fit(data_train, target_train)





# Training accuracy score
print("Training Accuracy for Bagged Trees:" , bagged_tree.score(data_train, target_train))





# Test accuracy score
print("Testing Accuracy for Bagged Trees:" , bagged_tree.score(data_test, target_test))











# Instantiate and fit a RandomForestClassifier
forest = RandomForestClassifier(n_estimators=100, max_depth=5, random_state = 123)
forest.fit(data_train, target_train)





# Training accuracy score
print("Training Accuracy for Random Forests:" , forest.score(data_train, target_train))


# Test accuracy score
print("Testing Accuracy for Random Forests:" , forest.score(data_test, target_test))





plot_feature_importances(forest)











# Instantiate and fit a RandomForestClassifier
forest_2 = RandomForestClassifier(n_estimators=5, 





# First tree from forest_2
rf_tree_1 = None





# Feature importance






# Second tree from forest_2
rf_tree_2 = None


# Feature importance



